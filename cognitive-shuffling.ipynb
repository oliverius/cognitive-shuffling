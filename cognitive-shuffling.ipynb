{
 "cells": [
  {
   "cell_type": "markdown",
   "metadata": {},
   "source": [
    "# Cognitive shuffling"
   ]
  },
  {
   "cell_type": "code",
   "execution_count": 3,
   "metadata": {},
   "outputs": [
    {
     "name": "stdout",
     "output_type": "stream",
     "text": [
      "212 sentences written to temporary wav files and read into memory\n",
      "All audio segments merged together\n",
      "Sentences successfully copied to an mp3 file: cognitive-shuffling.mp3\n"
     ]
    }
   ],
   "source": [
    "import pyttsx3\n",
    "from pydub import AudioSegment\n",
    "import tempfile\n",
    "from io import open\n",
    "\n",
    "def get_tags():\n",
    "  return  {\n",
    "    \"title\": \"Cognitive shuffling\",\n",
    "    \"artist\": \"Oliver\",\n",
    "    \"album\": \"Python Greatest Hits\",\n",
    "    \"year\": \"2025\",\n",
    "    \"genre\": \"Lo-Fi\",\n",
    "    \"comment\": \"https://simpleonedev.substack.com\"\n",
    "  }\n",
    "\n",
    "def evocative_sentences(sentences_file_path: str, pause_between_sentences: int, output_filename: str) -> None:\n",
    "\n",
    "  with open(sentences_file_path, \"r\", encoding=\"utf-8\") as file:\n",
    "    sentences = file.readlines()\n",
    "\n",
    "  engine = pyttsx3.init()\n",
    "  engine.setProperty(\"rate\", 100)\n",
    "  engine.setProperty(\"volume\", 1.0)\n",
    "\n",
    "  audio_segments = []\n",
    "  pause_duration_in_ms = pause_between_sentences * 1000\n",
    "\n",
    "  for sentence in sentences:\n",
    "    # \"delete=False\" is needed or runAndWait() won't be able to process the files because they will be deleted before they can be read\n",
    "    with tempfile.NamedTemporaryFile(delete=False, suffix=\".wav\") as temp_audio:\n",
    "      temp_filename = temp_audio.name\n",
    "      engine.save_to_file(sentence, temp_filename)  # Save speech to a temp WAV file\n",
    "    engine.runAndWait()\n",
    "\n",
    "    silent_segment = AudioSegment.silent(duration=pause_duration_in_ms)\n",
    "    audio_segments.append(silent_segment)\n",
    "\n",
    "    speech_audio = AudioSegment.from_file(temp_audio.name, format=\"wav\")\n",
    "    audio_segments.append(speech_audio)\n",
    "\n",
    "  print(f\"{len(sentences)} sentences written to temporary wav files and read into memory\")\n",
    "\n",
    "  final_audio = sum(audio_segments, AudioSegment.silent(duration=0))\n",
    "\n",
    "  print(\"All audio segments merged together\")\n",
    "\n",
    "  final_audio.export(output_filename, format=\"mp3\", tags=get_tags())\n",
    "\n",
    "  print(f\"Sentences successfully copied to an mp3 file: {output_filename}\")\n",
    "\n",
    "evocative_sentences(\"evocative sentences.txt\", 5, \"cognitive-shuffling.mp3\")"
   ]
  },
  {
   "cell_type": "code",
   "execution_count": 4,
   "metadata": {},
   "outputs": [
    {
     "name": "stdout",
     "output_type": "stream",
     "text": [
      "Background music added to cognitive-shuffling-with-piano.mp3\n"
     ]
    }
   ],
   "source": [
    "from pydub import AudioSegment\n",
    "\n",
    "def add_background_music(main_file_name: str, background_file_name: str, output_file_name: str) -> None:\n",
    "  main_audio = AudioSegment.from_file(main_file_name)\n",
    "  main_audio -= 10 # Lower main track volume 10dB\n",
    "\n",
    "  background_music = AudioSegment.from_file(background_file_name)\n",
    "  background_music -= 3  # Lower background volume 3dB\n",
    "\n",
    "  # Loop the background music until it matches the main audio length\n",
    "  looped_background = (background_music * (len(main_audio) // len(background_music) + 1))[:len(main_audio)]\n",
    "\n",
    "  final_mix = main_audio.overlay(looped_background)\n",
    "\n",
    "  final_mix.export(output_file_name, format=\"mp3\", tags=get_tags(), bitrate=\"64k\")\n",
    "\n",
    "  print(f\"Background music added to {output_file_name}\")\n",
    "\n",
    "add_background_music(\"cognitive-shuffling.mp3\", \"Sovereign(chosic.com).mp3\", \"cognitive-shuffling-with-piano.mp3\")"
   ]
  }
 ],
 "metadata": {
  "kernelspec": {
   "display_name": "Python 3",
   "language": "python",
   "name": "python3"
  },
  "language_info": {
   "codemirror_mode": {
    "name": "ipython",
    "version": 3
   },
   "file_extension": ".py",
   "mimetype": "text/x-python",
   "name": "python",
   "nbconvert_exporter": "python",
   "pygments_lexer": "ipython3",
   "version": "3.11.3"
  }
 },
 "nbformat": 4,
 "nbformat_minor": 2
}
