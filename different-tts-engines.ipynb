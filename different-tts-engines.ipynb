{
 "cells": [
  {
   "cell_type": "markdown",
   "metadata": {},
   "source": [
    "# Different TTS engines comparisons\n",
    "\n",
    "We tried two different TTS (text-to-speech) engines:\n",
    "\n",
    "## pyttsx3\n",
    "It works offline, uses the voices in your local system for TTS. The voices don't seem completely natural\n",
    "\n",
    "`pip install pyttsx3`\n",
    "\n",
    "[GitHub](https://github.com/nateshmbhat/pyttsx3)\n",
    "\n",
    "## gTTS\n",
    "It uses Google TTS and gives very natural voices. It can be saved directly to file and unlimited length. It needs internet connection.\n",
    "\n",
    "`pip install gtts`\n",
    "\n",
    "[GitHub](https://github.com/pndurette/gTTS)\n",
    "\n",
    "All examples run with Python version: 3.11.3\n",
    "\n",
    "Neither support [SSML](https://www.w3.org/TR/speech-synthesis/) so we will need to fake pauses using text like\n",
    "`<speak>Let's wait for a moment. <break time=\"3s\"/>. And we are back</speak>`\n",
    "\n",
    "For mp3 processing, we used [pydub](https://github.com/jiaaro/pydub)\n",
    "`pip install pydub`\n",
    "\n",
    "This requires [FFmpeg](https://www.ffmpeg.org/)\n",
    "For example for windows, the easiest way is to run `winget install \"FFmpeg (Essentials Build)\"/\n",
    "\n",
    "# Further reading\n",
    "- https://www.geeksforgeeks.org/convert-text-speech-python/\n",
    "- https://pyttsx3.readthedocs.io/en/latest/engine.html#examples\n",
    "- https://gtts.readthedocs.io/en/latest/module.html#localized-accents\n",
    "- https://gtts.readthedocs.io/en/latest/module.html#examples\n",
    "\n",
    "# Other options to explore\n",
    "I wanted to use Tik Tok voices, this can be an interesting choice: https://rapidapi.com/dalamates/api/tts-tiktok"
   ]
  },
  {
   "cell_type": "markdown",
   "metadata": {},
   "source": [
    "Note about `pyttsx3` inside a jupyter notebook.\n",
    "Most of the code examples you find online have `engine.runAndWait()`. This works perfectly fine multiple times if you use a python editor e.g. IDLE or Visual Studio Code. However since we are in a jupyter notebook if we run the same cell twice we get an error: `RuntimeError: run loop already started`.\n",
    "\n",
    "This is because a Jupyter notebook also runs an async event loop in teh background, and this conflicts with `pyttsx3.runAndWait()` which expects to control its own loop.\n",
    "\n",
    "The easiest solution is restart the kernel (or just restart VS Code). For simple tests, this works well.\n",
    "Note that I tried to iterate the engine without success, and also use threads\n"
   ]
  },
  {
   "cell_type": "code",
   "execution_count": 1,
   "metadata": {},
   "outputs": [],
   "source": [
    "import pyttsx3\n",
    "\n",
    "engine = pyttsx3.init()\n",
    "\n",
    "engine.setProperty(\"rate\", 100)\n",
    "engine.setProperty(\"volume\", 1.0)\n",
    "\n",
    "engine.say(\"The red house.\")\n",
    "engine.say(\"A big dog.\")\n",
    "\n",
    "engine.runAndWait()\n"
   ]
  },
  {
   "cell_type": "code",
   "execution_count": 2,
   "metadata": {},
   "outputs": [
    {
     "name": "stdout",
     "output_type": "stream",
     "text": [
      "<Voice id=HKEY_LOCAL_MACHINE\\SOFTWARE\\Microsoft\\Speech\\Voices\\Tokens\\TTS_MS_EN-GB_HAZEL_11.0\n",
      "          name=Microsoft Hazel Desktop - English (Great Britain)\n",
      "          languages=[]\n",
      "          gender=None\n",
      "          age=None>\n",
      "<Voice id=HKEY_LOCAL_MACHINE\\SOFTWARE\\Microsoft\\Speech\\Voices\\Tokens\\TTS_MS_EN-US_ZIRA_11.0\n",
      "          name=Microsoft Zira Desktop - English (United States)\n",
      "          languages=[]\n",
      "          gender=None\n",
      "          age=None>\n",
      "<Voice id=HKEY_LOCAL_MACHINE\\SOFTWARE\\Microsoft\\Speech\\Voices\\Tokens\\TTS_MS_ES-ES_HELENA_11.0\n",
      "          name=Microsoft Helena Desktop - Spanish (Spain)\n",
      "          languages=[]\n",
      "          gender=None\n",
      "          age=None>\n"
     ]
    }
   ],
   "source": [
    "# Different voices\n",
    "import pyttsx3\n",
    "\n",
    "engine = pyttsx3.init()\n",
    "\n",
    "voices = engine.getProperty(\"voices\")\n",
    "\n",
    "for voice in voices:\n",
    "  print(voice)"
   ]
  },
  {
   "cell_type": "markdown",
   "metadata": {},
   "source": [
    "In my computer I get these results:\n",
    "```ini\n",
    "<Voice id=HKEY_LOCAL_MACHINE\\SOFTWARE\\Microsoft\\Speech\\Voices\\Tokens\\TTS_MS_EN-GB_HAZEL_11.0\n",
    "          name=Microsoft Hazel Desktop - English (Great Britain)\n",
    "          languages=[]\n",
    "          gender=None\n",
    "          age=None>\n",
    "<Voice id=HKEY_LOCAL_MACHINE\\SOFTWARE\\Microsoft\\Speech\\Voices\\Tokens\\TTS_MS_EN-US_ZIRA_11.0\n",
    "          name=Microsoft Zira Desktop - English (United States)\n",
    "          languages=[]\n",
    "          gender=None\n",
    "          age=None>\n",
    "<Voice id=HKEY_LOCAL_MACHINE\\SOFTWARE\\Microsoft\\Speech\\Voices\\Tokens\\TTS_MS_ES-ES_HELENA_11.0\n",
    "          name=Microsoft Helena Desktop - Spanish (Spain)\n",
    "          languages=[]\n",
    "          gender=None\n",
    "          age=None>\n",
    "```"
   ]
  },
  {
   "cell_type": "code",
   "execution_count": 1,
   "metadata": {},
   "outputs": [
    {
     "name": "stdout",
     "output_type": "stream",
     "text": [
      "Voice: Microsoft Hazel Desktop - English (Great Britain)\n",
      "Voice: Microsoft Zira Desktop - English (United States)\n",
      "Voice: Microsoft Helena Desktop - Spanish (Spain)\n"
     ]
    }
   ],
   "source": [
    "import pyttsx3\n",
    "\n",
    "engine = pyttsx3.init()\n",
    "\n",
    "engine.setProperty(\"rate\", 100)\n",
    "engine.setProperty(\"volume\", 1.0)\n",
    "\n",
    "voices = engine.getProperty(\"voices\")\n",
    "\n",
    "for voice in voices:\n",
    "  print(f\"Voice: {voice.name}\")\n",
    "  engine.setProperty('voice', voice.id)\n",
    "  engine.say(\"The red house.\")\n",
    "  engine.say(\"A big dog.\")\n",
    "\n",
    "engine.runAndWait()"
   ]
  },
  {
   "cell_type": "code",
   "execution_count": 1,
   "metadata": {},
   "outputs": [],
   "source": [
    "# Since pyttsx3 doesn't support SSML we try with extra individual dots (or ellipsis)\n",
    "# Having dots or ellipsis doesn't make a difference in the length of the pause\n",
    "import pyttsx3\n",
    "\n",
    "engine = pyttsx3.init()\n",
    "\n",
    "engine.setProperty(\"rate\", 100)\n",
    "engine.setProperty(\"volume\", 1.0)\n",
    "\n",
    "engine.say(\"The red house....................\")\n",
    "engine.say(\"A big dog.\")\n",
    "\n",
    "engine.say(\"The white house … … … …\")\n",
    "engine.say(\"A small dog.\")\n",
    "\n",
    "engine.runAndWait()\n"
   ]
  },
  {
   "cell_type": "code",
   "execution_count": 1,
   "metadata": {},
   "outputs": [],
   "source": [
    "# This worked the first time, but not the second i.e. useless for running inside a Jupyter notebook multiple times\n",
    "import threading\n",
    "import pyttsx3\n",
    "\n",
    "def speak_sentences(sentences: list[str]) -> None:\n",
    "  engine = pyttsx3.init()\n",
    "  for sentence in sentences:\n",
    "    engine.say(sentence)\n",
    "  engine.runAndWait()\n",
    "\n",
    "sentences = [\"The red house.\", \"A big dog.\"]\n",
    "\n",
    "thread = threading.Thread(target=speak_sentences, args=(sentences,))\n",
    "thread.start()\n",
    "thread.join() "
   ]
  },
  {
   "cell_type": "code",
   "execution_count": 10,
   "metadata": {},
   "outputs": [
    {
     "name": "stdout",
     "output_type": "stream",
     "text": [
      "Saved to C:\\Users\\Oliver\\AppData\\Local\\Temp\\tmp8tf7s7_y.wav\n",
      "Saved to C:\\Users\\Oliver\\AppData\\Local\\Temp\\tmppt_k_0bl.wav\n",
      "Saved to C:\\Users\\Oliver\\AppData\\Local\\Temp\\tmpm9sm1wny.wav\n",
      "Saved to C:\\Users\\Oliver\\AppData\\Local\\Temp\\tmp1j3l_ljt.wav\n"
     ]
    },
    {
     "data": {
      "text/plain": [
       "<_io.BufferedRandom name='test_4_sentences_with_pauses.mp3'>"
      ]
     },
     "execution_count": 10,
     "metadata": {},
     "output_type": "execute_result"
    }
   ],
   "source": [
    "import pyttsx3\n",
    "from pydub import AudioSegment\n",
    "import tempfile\n",
    "\n",
    "sentences = [\n",
    "  \"The red house.\",\n",
    "  \"A big dog.\",\n",
    "  \"The white house\",\n",
    "  \"A small dog\"\n",
    "]\n",
    "\n",
    "engine = pyttsx3.init()\n",
    "engine.setProperty(\"rate\", 100)\n",
    "engine.setProperty(\"volume\", 1.0)\n",
    "\n",
    "audio_segments = []\n",
    "\n",
    "for sentence in sentences:\n",
    "  # With \"delete=False\" or runAndWait() won't be able to process them because they will be deleted before it reaches it\n",
    "  with tempfile.NamedTemporaryFile(delete=False, suffix=\".wav\") as temp_audio:\n",
    "    temp_filename = temp_audio.name\n",
    "    engine.save_to_file(sentence, temp_filename)  # Save speech to a temp WAV file\n",
    "    print(f\"Saved to {temp_audio.name}\")\n",
    "  engine.runAndWait()\n",
    "\n",
    "  speech_audio = AudioSegment.from_file(temp_audio.name, format=\"wav\")\n",
    "  audio_segments.append(speech_audio)\n",
    "\n",
    "  # Add a 5-second silent pause\n",
    "  silent_segment = AudioSegment.silent(duration=5000)\n",
    "  audio_segments.append(silent_segment)\n",
    "\n",
    "final_audio = sum(audio_segments, AudioSegment.silent(duration=0))\n",
    "\n",
    "final_audio.export(\"test_4_sentences_with_pauses.mp3\", format=\"mp3\")"
   ]
  },
  {
   "cell_type": "code",
   "execution_count": 2,
   "metadata": {},
   "outputs": [
    {
     "data": {
      "text/plain": [
       "0"
      ]
     },
     "execution_count": 2,
     "metadata": {},
     "output_type": "execute_result"
    }
   ],
   "source": [
    "from gtts import gTTS\n",
    "import os\n",
    "\n",
    "text = \"The red house. A big dog.\"\n",
    "tts = gTTS(text=text, lang=\"en\", tld=\"us\", slow=True) # American accent\n",
    "\n",
    "tts.save(\"test.mp3\")\n",
    "\n",
    "os.system(\"start test.mp3\")  # Play in Windows"
   ]
  },
  {
   "cell_type": "code",
   "execution_count": 5,
   "metadata": {},
   "outputs": [
    {
     "data": {
      "text/plain": [
       "0"
      ]
     },
     "execution_count": 5,
     "metadata": {},
     "output_type": "execute_result"
    }
   ],
   "source": [
    "from gtts import gTTS\n",
    "import os\n",
    "\n",
    "text = \"A red house. A big dog.\"\n",
    "tts = gTTS(text=text, lang=\"en\", tld=\"co.uk\", slow=True) # British accent\n",
    "\n",
    "tts.save(\"test.mp3\")\n",
    "\n",
    "os.system(\"start test.mp3\")  # Play in Windows"
   ]
  },
  {
   "cell_type": "code",
   "execution_count": 4,
   "metadata": {},
   "outputs": [
    {
     "data": {
      "text/plain": [
       "0"
      ]
     },
     "execution_count": 4,
     "metadata": {},
     "output_type": "execute_result"
    }
   ],
   "source": [
    "# Check if gTTs uses SSML (it doesn't)\n",
    "from gtts import gTTS\n",
    "import os\n",
    "\n",
    "text = \"<speak>A red house.<break time='5s'/> A big dog.</speak>\"\n",
    "tts = gTTS(text=text, lang=\"en\", tld=\"co.uk\", slow=True) # British accent\n",
    "\n",
    "tts.save(\"test.mp3\")\n",
    "\n",
    "os.system(\"start test.mp3\")  # Play in Windows"
   ]
  }
 ],
 "metadata": {
  "kernelspec": {
   "display_name": "Python 3",
   "language": "python",
   "name": "python3"
  },
  "language_info": {
   "codemirror_mode": {
    "name": "ipython",
    "version": 3
   },
   "file_extension": ".py",
   "mimetype": "text/x-python",
   "name": "python",
   "nbconvert_exporter": "python",
   "pygments_lexer": "ipython3",
   "version": "3.11.3"
  }
 },
 "nbformat": 4,
 "nbformat_minor": 2
}
