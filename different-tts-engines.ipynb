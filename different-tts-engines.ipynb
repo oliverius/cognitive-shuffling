{
 "cells": [
  {
   "cell_type": "markdown",
   "metadata": {},
   "source": [
    "# Different TTS engines comparisons\n",
    "\n",
    "We tried two different TTS (text-to-speech) engines:\n",
    "\n",
    "## pyttsx3\n",
    "It works offline, uses the voices in your local system for TTS. The voices don't seem completely natural\n",
    "\n",
    "`pip install pyttsx3`\n",
    "\n",
    "[GitHub](https://github.com/nateshmbhat/pyttsx3)\n",
    "\n",
    "## gTTS\n",
    "It uses Google TTS and gives very natural voices. It can be saved directly to file and unlimited length. It needs internet connection.\n",
    "\n",
    "`pip install gtts`\n",
    "\n",
    "[GitHub](https://github.com/pndurette/gTTS)\n",
    "\n",
    "\n",
    "All examples run with Python version: 3.11.3\n",
    "\n",
    "# Further reading\n",
    "- https://www.geeksforgeeks.org/convert-text-speech-python/\n",
    "- https://pyttsx3.readthedocs.io/en/latest/engine.html#examples\n",
    "- https://gtts.readthedocs.io/en/latest/module.html#localized-accents\n",
    "- https://gtts.readthedocs.io/en/latest/module.html#examples\n",
    "\n",
    "\n",
    "# Other options to explore\n",
    "I wanted to use Tik Tok voices, this can be an interesting choice: https://rapidapi.com/dalamates/api/tts-tiktok"
   ]
  },
  {
   "cell_type": "code",
   "execution_count": 32,
   "metadata": {},
   "outputs": [],
   "source": [
    "import pyttsx3\n",
    "\n",
    "engine = pyttsx3.init()\n",
    "\n",
    "engine.setProperty(\"rate\", 100)\n",
    "engine.setProperty(\"volume\", 1.0)\n",
    "\n",
    "engine.say(\"The red house.\")\n",
    "engine.say(\"A big dog.\")\n",
    "\n",
    "engine.runAndWait()"
   ]
  },
  {
   "cell_type": "code",
   "execution_count": 33,
   "metadata": {},
   "outputs": [
    {
     "name": "stdout",
     "output_type": "stream",
     "text": [
      "<Voice id=HKEY_LOCAL_MACHINE\\SOFTWARE\\Microsoft\\Speech\\Voices\\Tokens\\TTS_MS_EN-GB_HAZEL_11.0\n",
      "          name=Microsoft Hazel Desktop - English (Great Britain)\n",
      "          languages=[]\n",
      "          gender=None\n",
      "          age=None>\n",
      "<Voice id=HKEY_LOCAL_MACHINE\\SOFTWARE\\Microsoft\\Speech\\Voices\\Tokens\\TTS_MS_EN-US_ZIRA_11.0\n",
      "          name=Microsoft Zira Desktop - English (United States)\n",
      "          languages=[]\n",
      "          gender=None\n",
      "          age=None>\n",
      "<Voice id=HKEY_LOCAL_MACHINE\\SOFTWARE\\Microsoft\\Speech\\Voices\\Tokens\\TTS_MS_ES-ES_HELENA_11.0\n",
      "          name=Microsoft Helena Desktop - Spanish (Spain)\n",
      "          languages=[]\n",
      "          gender=None\n",
      "          age=None>\n"
     ]
    }
   ],
   "source": [
    "# Different voices\n",
    "import pyttsx3\n",
    "\n",
    "engine = pyttsx3.init()\n",
    "\n",
    "voices = engine.getProperty(\"voices\")\n",
    "\n",
    "for voice in voices:\n",
    "  print(voice)"
   ]
  },
  {
   "cell_type": "markdown",
   "metadata": {},
   "source": [
    "In my computer I get these results:\n",
    "```ini\n",
    "<Voice id=HKEY_LOCAL_MACHINE\\SOFTWARE\\Microsoft\\Speech\\Voices\\Tokens\\TTS_MS_EN-GB_HAZEL_11.0\n",
    "          name=Microsoft Hazel Desktop - English (Great Britain)\n",
    "          languages=[]\n",
    "          gender=None\n",
    "          age=None>\n",
    "<Voice id=HKEY_LOCAL_MACHINE\\SOFTWARE\\Microsoft\\Speech\\Voices\\Tokens\\TTS_MS_EN-US_ZIRA_11.0\n",
    "          name=Microsoft Zira Desktop - English (United States)\n",
    "          languages=[]\n",
    "          gender=None\n",
    "          age=None>\n",
    "<Voice id=HKEY_LOCAL_MACHINE\\SOFTWARE\\Microsoft\\Speech\\Voices\\Tokens\\TTS_MS_ES-ES_HELENA_11.0\n",
    "          name=Microsoft Helena Desktop - Spanish (Spain)\n",
    "          languages=[]\n",
    "          gender=None\n",
    "          age=None>\n",
    "```"
   ]
  },
  {
   "cell_type": "code",
   "execution_count": 35,
   "metadata": {},
   "outputs": [
    {
     "name": "stdout",
     "output_type": "stream",
     "text": [
      "Voice: Microsoft Hazel Desktop - English (Great Britain)\n",
      "Voice: Microsoft Zira Desktop - English (United States)\n",
      "Voice: Microsoft Helena Desktop - Spanish (Spain)\n"
     ]
    }
   ],
   "source": [
    "import pyttsx3\n",
    "\n",
    "engine = pyttsx3.init()\n",
    "\n",
    "engine.setProperty(\"rate\", 100)\n",
    "engine.setProperty(\"volume\", 1.0)\n",
    "\n",
    "voices = engine.getProperty(\"voices\")\n",
    "\n",
    "for voice in voices:\n",
    "  print(f\"Voice: {voice.name}\")\n",
    "  engine.setProperty('voice', voice.id)\n",
    "  engine.say(\"The red house.\")\n",
    "  engine.say(\"A big dog.\")\n",
    "\n",
    "engine.runAndWait()"
   ]
  },
  {
   "cell_type": "code",
   "execution_count": null,
   "metadata": {},
   "outputs": [
    {
     "data": {
      "text/plain": [
       "0"
      ]
     },
     "execution_count": 41,
     "metadata": {},
     "output_type": "execute_result"
    }
   ],
   "source": [
    "from gtts import gTTS\n",
    "import os\n",
    "\n",
    "text = \"The red house. A big dog.\"\n",
    "tts = gTTS(text=text, lang=\"en\", tld=\"us\", slow=True) # American accent\n",
    "\n",
    "tts.save(\"test.mp3\")\n",
    "\n",
    "os.system(\"start test.mp3\")  # Play in Windows"
   ]
  },
  {
   "cell_type": "code",
   "execution_count": 42,
   "metadata": {},
   "outputs": [
    {
     "data": {
      "text/plain": [
       "0"
      ]
     },
     "execution_count": 42,
     "metadata": {},
     "output_type": "execute_result"
    }
   ],
   "source": [
    "from gtts import gTTS\n",
    "import os\n",
    "\n",
    "text = \"A red house. A big dog.\"\n",
    "tts = gTTS(text=text, lang=\"en\", tld=\"co.uk\", slow=True) # British accent\n",
    "\n",
    "tts.save(\"test.mp3\")\n",
    "\n",
    "os.system(\"start test.mp3\")  # Play in Windows"
   ]
  }
 ],
 "metadata": {
  "kernelspec": {
   "display_name": "Python 3",
   "language": "python",
   "name": "python3"
  },
  "language_info": {
   "codemirror_mode": {
    "name": "ipython",
    "version": 3
   },
   "file_extension": ".py",
   "mimetype": "text/x-python",
   "name": "python",
   "nbconvert_exporter": "python",
   "pygments_lexer": "ipython3",
   "version": "3.11.3"
  }
 },
 "nbformat": 4,
 "nbformat_minor": 2
}
